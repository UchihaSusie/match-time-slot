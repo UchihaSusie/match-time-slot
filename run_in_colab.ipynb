{
 "cells": [
  {
   "cell_type": "markdown",
   "id": "8afe58a9",
   "metadata": {},
   "source": [
    "# Match Time Slot - Google Colab Demo\n",
    "\n",
    "This notebook demonstrates how to run the **Match Time Slot** project using Google Colab.\n",
    "\n",
    "It will clone the GitHub repository and let you run any of the three available test files:\n",
    "- `random_sample_test.py`: Fully interactive (requires number of samples, candidates, and recruiters)\n",
    "- `target_sample_test.py`: Predefined samples (no input required)\n",
    "- `realword_message_test.py`: Semi-interactive (requires number of candidates and recruiters)\n",
    "\n",
    "---\n"
   ]
  },
  {
   "cell_type": "code",
   "execution_count": null,
   "id": "4979ec5c",
   "metadata": {},
   "outputs": [],
   "source": [
    "# STEP 1: Clone the GitHub repository\n",
    "!git clone https://github.com/UchihaSusie/match-time-slot.git\n",
    "%cd match-time-slot\n",
    "\n",
    "# STEP 2: Add project path for module imports\n",
    "import sys\n",
    "sys.path.append('/content/match-time-slot')\n"
   ]
  },
  {
   "cell_type": "code",
   "execution_count": null,
   "id": "57450b25",
   "metadata": {},
   "outputs": [],
   "source": [
    "# STEP 3: Run tests\n",
    "# You can choose one of the following test files to run.\n",
    "# Each one has a different purpose and level of user interaction.\n",
    "\n",
    "# === Option 2: Run target_sample_test.py ===\n",
    "# This test runs 5 pre-defined samples.\n",
    "# It does NOT require any user input and will run immediately.\n",
    "\n",
    "# !python tests/target_sample_test.py\n",
    "\n",
    "\n",
    "# === Option 2: Run random_sample_test.py ===\n",
    "# This test requires user input:\n",
    "# - number of samples to run\n",
    "# - number of candidates per sample\n",
    "# - number of recruiters per sample\n",
    "\n",
    "# !python tests/random_sample_test.py\n",
    "\n",
    "\n",
    "# === Option 3: Run reward_message_test.py ===\n",
    "# This test simulates real-life message exchange (email-like).\n",
    "# You will be asked to input:\n",
    "# - number of candidates\n",
    "# - number of recruiters\n",
    "\n",
    "# !python tests/realword_message_test.py\n"
   ]
  }
 ],
 "metadata": {},
 "nbformat": 4,
 "nbformat_minor": 5
}
